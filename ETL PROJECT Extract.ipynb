{
 "cells": [
  {
   "cell_type": "markdown",
   "metadata": {},
   "source": [
    "# Background:   \n",
    "    Due to Covid19 pandemic, lockdown many states issued statewide lockdowns to prevent its spread and most businesses shut down. \n",
    "    Online/wireless financial transactions are said to increase to fill that gap. \n",
    "# Research Question:   \n",
    "    Is there also an increase on complaints? Can we find any interesting information?\n",
    "# Sources:\n",
    "    An API from the Consumer Financial Protection Bureau. An Agency of the U.S. Government responsible for regulating the offering and provision of consumer financial products or services under the federal consumer financial laws. The API had a large database, easily accessable and the documentations for them are both user-friendly and tech-friendly. \n",
    "    We can enter the parameters of what we want to look for and generate a workable link to gain access to the json file we want. With that link, we can readjust the parameters (such as dates) to fit other search we want, without the need to revisit the website.\n",
    "https://www.consumerfinance.gov/data-research/consumer-complaints/\n",
    "https://cfpb.github.io/api/ccdb/api.html\n",
    "# Narrowing it down:\n",
    "    The website provide ways to hone in to what we can look at. We decides to focus on Credit Cards: only General-Purpose and Stored Based only. This is for simplicity and accurracy.\n",
    "    Most states began to start lock down in March. As of the start of this project, (8/29/2020) it is near to six months before it bagan. We decide to look for six months before and after. \n",
    "The Original Link:\n",
    "# 1Year: 8-30-2019 to 8-30-2020\n",
    "#https://www.consumerfinance.gov/data-research/consumer-complaints/search/api/v1/?date_received_max=2020-08-30&date_received_min=2019-08-30&field=all&format=json&no_aggs=true&product=Credit%20card%20or%20prepaid%20card%E2%80%A2General-purpose%20credit%20card%20or%20charge%20card&product=Credit%20card%20or%20prepaid%20card%E2%80%A2Store%20credit%20card\n",
    "\n",
    "# 6-Months: 2-29-2020 to 8-30-2020\n",
    "#https://www.consumerfinance.gov/data-research/consumer-complaints/search/api/v1/?date_received_max=2020-08-30&date_received_min=2019-02-28&field=all&format=json&no_aggs=true&product=Credit%20card%20or%20prepaid%20card%E2%80%A2General-purpose%20credit%20card%20or%20charge%20card&product=Credit%20card%20or%20prepaid%20card%E2%80%A2Store%20credit%20card"
   ]
  },
  {
   "cell_type": "code",
   "execution_count": 29,
   "metadata": {},
   "outputs": [],
   "source": [
    "import json\n",
    "import requests \n",
    "import pandas\n",
    "ori_url =f'''https://www.consumerfinance.gov/data-research/consumer-complaints/search/api/v1/?\n",
    "    date_received_max={date_end}&date_received_min={date_start}&field=all&format=json&no_aggs=true&product={problem}'''\n"
   ]
  },
  {
   "cell_type": "code",
   "execution_count": 30,
   "metadata": {},
   "outputs": [],
   "source": [
    "#General Purpose Credit Card and Store Credit Card are our ussye\n",
    "\n",
    "problem='Credit%20card%20or%20prepaid%20card%E2%80%A2General-purpose%20credit%20card%20or%20charge%20card&product=Credit%20card%20or%20prepaid%20card%E2%80%A2Store%20credit%20card'\n"
   ]
  },
  {
   "cell_type": "code",
   "execution_count": 47,
   "metadata": {},
   "outputs": [
    {
     "name": "stdout",
     "output_type": "stream",
     "text": [
      "200\n",
      "14149\n"
     ]
    }
   ],
   "source": [
    "#For Six Months Since March \n",
    "after_url = f'''https://www.consumerfinance.gov/data-research/consumer-complaints/search/api/v1/?\n",
    "    date_received_max={date_end}&date_received_min={date_start}&field=all&format=json&no_aggs=true&product={problem}'''\n",
    "\n",
    "date_end= '2020-08-30'\n",
    "date_start='2020-03-01'\n",
    "\n",
    "sixmo_after = requests.get(after_url)\n",
    "\n",
    "print(sixmo_after.status_code)\n",
    "\n",
    "#Number of Complaint in Credit Card in Six Months Since March\n",
    "n_sixmth_after = len(sixmo_after.json())\n",
    "print(n_sixmth_after)"
   ]
  },
  {
   "cell_type": "code",
   "execution_count": 49,
   "metadata": {},
   "outputs": [
    {
     "name": "stdout",
     "output_type": "stream",
     "text": [
      "200\n"
     ]
    },
    {
     "data": {
      "text/plain": [
       "12478"
      ]
     },
     "execution_count": 49,
     "metadata": {},
     "output_type": "execute_result"
    }
   ],
   "source": [
    "#For Six Months Before March \n",
    "url_bef= f'''https://www.consumerfinance.gov/data-research/consumer-complaints/search/api/v1/?date_received_max={date_end}&date_received_min={date_start}&field=all&format=json&no_aggs=true&product={problem}'''\n",
    "\n",
    "date_end= '2020-03-01'\n",
    "date_start='2019-08-30'\n",
    "\n",
    "sixmo_before = requests.get(url_bef)\n",
    "\n",
    "print(sixmo_before.status_code)\n",
    "\n",
    "#Number of Complaint in Credit Card in Six Months before March\n",
    "n_sixmth_before = len(sixmo_before.json())\n",
    "n_sixmth_before"
   ]
  },
  {
   "cell_type": "code",
   "execution_count": 67,
   "metadata": {},
   "outputs": [
    {
     "name": "stdout",
     "output_type": "stream",
     "text": [
      "Credit card complaints increased by 1671 cases\n",
      "13.39%\n",
      "Credit Complaints increased by 13.39% since March when lockdowns began in many states across the U.S.\n"
     ]
    }
   ],
   "source": [
    "#The Increase in Credit Card Complaints\n",
    "#total increase\n",
    "total_increase= n_sixmth_after - n_sixmth_before\n",
    "print(f'Credit card complaints increased by {total_increase} cases.')\n",
    "#total increase percentage\n",
    "print(\"{:.2%}\".format(total_increase/n_sixmth_before))\n",
    "print(f\"Credit Complaints increased by \" + \"{:.2%}\".format(total_increase/n_sixmth_before) + \" since March when lockdowns began in many states across the U.S.\")"
   ]
  },
  {
   "cell_type": "code",
   "execution_count": 70,
   "metadata": {},
   "outputs": [
    {
     "data": {
      "text/plain": [
       "{'_index': 'complaint-public-v1',\n",
       " '_type': 'complaint',\n",
       " '_id': '3650381',\n",
       " '_score': 0.0,\n",
       " '_source': {'tags': None,\n",
       "  'zip_code': '85251',\n",
       "  'complaint_id': '3650381',\n",
       "  'issue': 'Problem with a purchase shown on your statement',\n",
       "  'date_received': '2020-05-13T12:00:00-05:00',\n",
       "  'state': 'AZ',\n",
       "  'consumer_disputed': 'N/A',\n",
       "  'product': 'Credit card or prepaid card',\n",
       "  'company_response': 'Closed with explanation',\n",
       "  'company': 'JPMORGAN CHASE & CO.',\n",
       "  'submitted_via': 'Postal mail',\n",
       "  'date_sent_to_company': '2020-05-13T12:00:00-05:00',\n",
       "  'company_public_response': None,\n",
       "  'sub_product': 'General-purpose credit card or charge card',\n",
       "  'timely': 'Yes',\n",
       "  'complaint_what_happened': '',\n",
       "  'sub_issue': 'Card was charged for something you did not purchase with the card',\n",
       "  'consumer_consent_provided': 'N/A'}}"
      ]
     },
     "execution_count": 70,
     "metadata": {},
     "output_type": "execute_result"
    }
   ],
   "source": [
    "#An example of the results \n",
    "sixmo_after.json()[1]"
   ]
  },
  {
   "cell_type": "markdown",
   "metadata": {},
   "source": [
    "# Other Questions:\n",
    "    What may be the state with most complaints?\n",
    "    What may be the most common issues?\n",
    "    What companies receieved the most complaints?\n",
    "    "
   ]
  }
 ],
 "metadata": {
  "kernelspec": {
   "display_name": "Python 3",
   "language": "python",
   "name": "python3"
  },
  "language_info": {
   "codemirror_mode": {
    "name": "ipython",
    "version": 3
   },
   "file_extension": ".py",
   "mimetype": "text/x-python",
   "name": "python",
   "nbconvert_exporter": "python",
   "pygments_lexer": "ipython3",
   "version": "3.7.6"
  }
 },
 "nbformat": 4,
 "nbformat_minor": 4
}
